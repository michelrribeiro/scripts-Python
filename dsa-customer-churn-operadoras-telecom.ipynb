{
 "cells": [
  {
   "cell_type": "markdown",
   "id": "807cb25f",
   "metadata": {},
   "source": [
    "## Projeto DSA: Prevendo Customer Churn em Operadoras de Telecom\n",
    "#### Projeto: criar um modelo de aprendizagem de máquina que possa prever se um cliente pode ou não cancelar seu plano e qual a probabilidade de isso ocorrer.\n",
    "\n",
    "Dados disponíveis em: https://www.kaggle.com/datasets/akshithsagar/telcom"
   ]
  },
  {
   "cell_type": "markdown",
   "id": "f0423997",
   "metadata": {},
   "source": [
    "Importando as bibliotecas necessárias:"
   ]
  },
  {
   "cell_type": "code",
   "execution_count": 1,
   "id": "d0ee1800",
   "metadata": {},
   "outputs": [],
   "source": [
    "import warnings\n",
    "warnings.filterwarnings('ignore')\n",
    "\n",
    "from time import time\n",
    "start = time()\n",
    "\n",
    "import pandas as pd\n",
    "import numpy as np\n",
    "from scipy import stats\n",
    "from re import sub, match\n",
    "from random import choice\n",
    "\n",
    "import seaborn as sns\n",
    "import matplotlib.pyplot as plt\n",
    "sns.set()\n",
    "\n",
    "from imblearn.over_sampling import ADASYN\n",
    "from sklearn.model_selection import GridSearchCV\n",
    "from sklearn.linear_model import LogisticRegression\n",
    "from sklearn.metrics import confusion_matrix, accuracy_score, classification_report"
   ]
  },
  {
   "cell_type": "markdown",
   "id": "b71140ce",
   "metadata": {},
   "source": [
    "A fonte de dados possui 2 arquivos:\n",
    "- treino: dataset completo com variáveis preditoras e variável alvo (3333/5000 registros).\n",
    "- teste: dataset completo com variáveis preditoras e variável alvo (1667/5000 registros).\n",
    "\n",
    "Dicionário de dados:\n",
    "- 'Unnamed: 0': ID.\n",
    "- state: the US state in which the customer resides, indicated by a two-letter abbreviation.\n",
    "- account_length: the number of days that this account has been active.\n",
    "- area_code: the three-digit area code of the corresponding customer’s phone number.\n",
    "- international_plan: whether the customer has an international calling plan: yes/no.\n",
    "- voice_mail_plan: whether the customer has a voice mail feature: yes/no.\n",
    "- number_vmail_messages: presumably the average number of voice mail messages per month.\n",
    "- total_day_minutes: the total number of calling minutes used during the day.\n",
    "- total_day_calls: the total number of calls placed during the day.\n",
    "- total_day_charge: the billed cost of daytime calls.\n",
    "- total_eve_minutes: the total number of calling minutes used during the evening.\n",
    "- total_eve_calls: the total number of calls placed during the evening.\n",
    "- total_eve_charge: the billed cost of evening time calls.\n",
    "- total_night_minutes: the total number of calling minutes used during the night.\n",
    "- total_night_calls: the total number of calls placed during the night.\n",
    "- total_night_charge: the billed cost of nighttime calls.\n",
    "- total_intl_minutes: the total number of international minutes.\n",
    "- total_intl_calls: the total number of international calls.\n",
    "- total_intl_charge: the billed cost for international calls.\n",
    "- number_customer_service_calls: the number of calls placed to Customer Service.\n",
    "- churn: whether the customer left the service: true/false."
   ]
  },
  {
   "cell_type": "markdown",
   "id": "c0173abb",
   "metadata": {},
   "source": [
    "Carregando os arquivos e realizando uma primeira visualização dos dados:"
   ]
  },
  {
   "cell_type": "code",
   "execution_count": 2,
   "id": "6ece227c",
   "metadata": {},
   "outputs": [
    {
     "data": {
      "text/html": [
       "<div>\n",
       "<style scoped>\n",
       "    .dataframe tbody tr th:only-of-type {\n",
       "        vertical-align: middle;\n",
       "    }\n",
       "\n",
       "    .dataframe tbody tr th {\n",
       "        vertical-align: top;\n",
       "    }\n",
       "\n",
       "    .dataframe thead th {\n",
       "        text-align: right;\n",
       "    }\n",
       "</style>\n",
       "<table border=\"1\" class=\"dataframe\">\n",
       "  <thead>\n",
       "    <tr style=\"text-align: right;\">\n",
       "      <th></th>\n",
       "      <th>Unnamed: 0</th>\n",
       "      <th>state</th>\n",
       "      <th>account_length</th>\n",
       "      <th>area_code</th>\n",
       "      <th>international_plan</th>\n",
       "      <th>voice_mail_plan</th>\n",
       "      <th>number_vmail_messages</th>\n",
       "      <th>total_day_minutes</th>\n",
       "      <th>total_day_calls</th>\n",
       "      <th>total_day_charge</th>\n",
       "      <th>...</th>\n",
       "      <th>total_eve_calls</th>\n",
       "      <th>total_eve_charge</th>\n",
       "      <th>total_night_minutes</th>\n",
       "      <th>total_night_calls</th>\n",
       "      <th>total_night_charge</th>\n",
       "      <th>total_intl_minutes</th>\n",
       "      <th>total_intl_calls</th>\n",
       "      <th>total_intl_charge</th>\n",
       "      <th>number_customer_service_calls</th>\n",
       "      <th>churn</th>\n",
       "    </tr>\n",
       "  </thead>\n",
       "  <tbody>\n",
       "    <tr>\n",
       "      <th>0</th>\n",
       "      <td>1</td>\n",
       "      <td>KS</td>\n",
       "      <td>128</td>\n",
       "      <td>area_code_415</td>\n",
       "      <td>no</td>\n",
       "      <td>yes</td>\n",
       "      <td>25</td>\n",
       "      <td>265.1</td>\n",
       "      <td>110</td>\n",
       "      <td>45.07</td>\n",
       "      <td>...</td>\n",
       "      <td>99</td>\n",
       "      <td>16.78</td>\n",
       "      <td>244.7</td>\n",
       "      <td>91</td>\n",
       "      <td>11.01</td>\n",
       "      <td>10.0</td>\n",
       "      <td>3</td>\n",
       "      <td>2.70</td>\n",
       "      <td>1</td>\n",
       "      <td>no</td>\n",
       "    </tr>\n",
       "    <tr>\n",
       "      <th>1</th>\n",
       "      <td>2</td>\n",
       "      <td>OH</td>\n",
       "      <td>107</td>\n",
       "      <td>area_code_415</td>\n",
       "      <td>no</td>\n",
       "      <td>yes</td>\n",
       "      <td>26</td>\n",
       "      <td>161.6</td>\n",
       "      <td>123</td>\n",
       "      <td>27.47</td>\n",
       "      <td>...</td>\n",
       "      <td>103</td>\n",
       "      <td>16.62</td>\n",
       "      <td>254.4</td>\n",
       "      <td>103</td>\n",
       "      <td>11.45</td>\n",
       "      <td>13.7</td>\n",
       "      <td>3</td>\n",
       "      <td>3.70</td>\n",
       "      <td>1</td>\n",
       "      <td>no</td>\n",
       "    </tr>\n",
       "    <tr>\n",
       "      <th>2</th>\n",
       "      <td>3</td>\n",
       "      <td>NJ</td>\n",
       "      <td>137</td>\n",
       "      <td>area_code_415</td>\n",
       "      <td>no</td>\n",
       "      <td>no</td>\n",
       "      <td>0</td>\n",
       "      <td>243.4</td>\n",
       "      <td>114</td>\n",
       "      <td>41.38</td>\n",
       "      <td>...</td>\n",
       "      <td>110</td>\n",
       "      <td>10.30</td>\n",
       "      <td>162.6</td>\n",
       "      <td>104</td>\n",
       "      <td>7.32</td>\n",
       "      <td>12.2</td>\n",
       "      <td>5</td>\n",
       "      <td>3.29</td>\n",
       "      <td>0</td>\n",
       "      <td>no</td>\n",
       "    </tr>\n",
       "  </tbody>\n",
       "</table>\n",
       "<p>3 rows × 21 columns</p>\n",
       "</div>"
      ],
      "text/plain": [
       "   Unnamed: 0 state  account_length      area_code international_plan  \\\n",
       "0           1    KS             128  area_code_415                 no   \n",
       "1           2    OH             107  area_code_415                 no   \n",
       "2           3    NJ             137  area_code_415                 no   \n",
       "\n",
       "  voice_mail_plan  number_vmail_messages  total_day_minutes  total_day_calls  \\\n",
       "0             yes                     25              265.1              110   \n",
       "1             yes                     26              161.6              123   \n",
       "2              no                      0              243.4              114   \n",
       "\n",
       "   total_day_charge  ...  total_eve_calls  total_eve_charge  \\\n",
       "0             45.07  ...               99             16.78   \n",
       "1             27.47  ...              103             16.62   \n",
       "2             41.38  ...              110             10.30   \n",
       "\n",
       "   total_night_minutes  total_night_calls  total_night_charge  \\\n",
       "0                244.7                 91               11.01   \n",
       "1                254.4                103               11.45   \n",
       "2                162.6                104                7.32   \n",
       "\n",
       "   total_intl_minutes  total_intl_calls  total_intl_charge  \\\n",
       "0                10.0                 3               2.70   \n",
       "1                13.7                 3               3.70   \n",
       "2                12.2                 5               3.29   \n",
       "\n",
       "   number_customer_service_calls  churn  \n",
       "0                              1     no  \n",
       "1                              1     no  \n",
       "2                              0     no  \n",
       "\n",
       "[3 rows x 21 columns]"
      ]
     },
     "execution_count": 2,
     "metadata": {},
     "output_type": "execute_result"
    }
   ],
   "source": [
    "df_train = pd.read_csv(\"./treino.csv\")\n",
    "df_test = pd.read_csv(\"./teste.csv\")\n",
    "\n",
    "df_train.head(3)"
   ]
  },
  {
   "cell_type": "markdown",
   "id": "05fe39e4",
   "metadata": {},
   "source": [
    "Variáveis categóricas:"
   ]
  },
  {
   "cell_type": "code",
   "execution_count": 3,
   "id": "03802d3e",
   "metadata": {},
   "outputs": [
    {
     "data": {
      "text/html": [
       "<div>\n",
       "<style scoped>\n",
       "    .dataframe tbody tr th:only-of-type {\n",
       "        vertical-align: middle;\n",
       "    }\n",
       "\n",
       "    .dataframe tbody tr th {\n",
       "        vertical-align: top;\n",
       "    }\n",
       "\n",
       "    .dataframe thead th {\n",
       "        text-align: right;\n",
       "    }\n",
       "</style>\n",
       "<table border=\"1\" class=\"dataframe\">\n",
       "  <thead>\n",
       "    <tr style=\"text-align: right;\">\n",
       "      <th></th>\n",
       "      <th>state</th>\n",
       "      <th>area_code</th>\n",
       "      <th>international_plan</th>\n",
       "      <th>voice_mail_plan</th>\n",
       "      <th>churn</th>\n",
       "    </tr>\n",
       "  </thead>\n",
       "  <tbody>\n",
       "    <tr>\n",
       "      <th>count</th>\n",
       "      <td>3333</td>\n",
       "      <td>3333</td>\n",
       "      <td>3333</td>\n",
       "      <td>3333</td>\n",
       "      <td>3333</td>\n",
       "    </tr>\n",
       "    <tr>\n",
       "      <th>unique</th>\n",
       "      <td>51</td>\n",
       "      <td>3</td>\n",
       "      <td>2</td>\n",
       "      <td>2</td>\n",
       "      <td>2</td>\n",
       "    </tr>\n",
       "    <tr>\n",
       "      <th>top</th>\n",
       "      <td>WV</td>\n",
       "      <td>area_code_415</td>\n",
       "      <td>no</td>\n",
       "      <td>no</td>\n",
       "      <td>no</td>\n",
       "    </tr>\n",
       "    <tr>\n",
       "      <th>freq</th>\n",
       "      <td>106</td>\n",
       "      <td>1655</td>\n",
       "      <td>3010</td>\n",
       "      <td>2411</td>\n",
       "      <td>2850</td>\n",
       "    </tr>\n",
       "  </tbody>\n",
       "</table>\n",
       "</div>"
      ],
      "text/plain": [
       "       state      area_code international_plan voice_mail_plan churn\n",
       "count   3333           3333               3333            3333  3333\n",
       "unique    51              3                  2               2     2\n",
       "top       WV  area_code_415                 no              no    no\n",
       "freq     106           1655               3010            2411  2850"
      ]
     },
     "execution_count": 3,
     "metadata": {},
     "output_type": "execute_result"
    }
   ],
   "source": [
    "cat_idx = [index for index, element in enumerate(list(df_train.dtypes)) if element == \"O\"]\n",
    "\n",
    "df_train.iloc[:, cat_idx].describe()"
   ]
  },
  {
   "cell_type": "markdown",
   "id": "e04ab5bf",
   "metadata": {},
   "source": [
    "Variáveis numéricas:"
   ]
  },
  {
   "cell_type": "code",
   "execution_count": 4,
   "id": "0e0c427a",
   "metadata": {},
   "outputs": [
    {
     "data": {
      "text/html": [
       "<div>\n",
       "<style scoped>\n",
       "    .dataframe tbody tr th:only-of-type {\n",
       "        vertical-align: middle;\n",
       "    }\n",
       "\n",
       "    .dataframe tbody tr th {\n",
       "        vertical-align: top;\n",
       "    }\n",
       "\n",
       "    .dataframe thead th {\n",
       "        text-align: right;\n",
       "    }\n",
       "</style>\n",
       "<table border=\"1\" class=\"dataframe\">\n",
       "  <thead>\n",
       "    <tr style=\"text-align: right;\">\n",
       "      <th></th>\n",
       "      <th>Unnamed: 0</th>\n",
       "      <th>account_length</th>\n",
       "      <th>number_vmail_messages</th>\n",
       "      <th>total_day_minutes</th>\n",
       "      <th>total_day_calls</th>\n",
       "      <th>total_day_charge</th>\n",
       "      <th>total_eve_minutes</th>\n",
       "      <th>total_eve_calls</th>\n",
       "      <th>total_eve_charge</th>\n",
       "      <th>total_night_minutes</th>\n",
       "      <th>total_night_calls</th>\n",
       "      <th>total_night_charge</th>\n",
       "      <th>total_intl_minutes</th>\n",
       "      <th>total_intl_calls</th>\n",
       "      <th>total_intl_charge</th>\n",
       "      <th>number_customer_service_calls</th>\n",
       "    </tr>\n",
       "  </thead>\n",
       "  <tbody>\n",
       "    <tr>\n",
       "      <th>count</th>\n",
       "      <td>3333.00000</td>\n",
       "      <td>3333.000000</td>\n",
       "      <td>3333.000000</td>\n",
       "      <td>3333.000000</td>\n",
       "      <td>3333.000000</td>\n",
       "      <td>3333.000000</td>\n",
       "      <td>3333.000000</td>\n",
       "      <td>3333.000000</td>\n",
       "      <td>3333.000000</td>\n",
       "      <td>3333.000000</td>\n",
       "      <td>3333.000000</td>\n",
       "      <td>3333.000000</td>\n",
       "      <td>3333.000000</td>\n",
       "      <td>3333.000000</td>\n",
       "      <td>3333.000000</td>\n",
       "      <td>3333.000000</td>\n",
       "    </tr>\n",
       "    <tr>\n",
       "      <th>mean</th>\n",
       "      <td>1667.00000</td>\n",
       "      <td>101.064806</td>\n",
       "      <td>8.099010</td>\n",
       "      <td>179.775098</td>\n",
       "      <td>100.435644</td>\n",
       "      <td>30.562307</td>\n",
       "      <td>200.980348</td>\n",
       "      <td>100.114311</td>\n",
       "      <td>17.083540</td>\n",
       "      <td>200.872037</td>\n",
       "      <td>100.107711</td>\n",
       "      <td>9.039325</td>\n",
       "      <td>10.237294</td>\n",
       "      <td>4.479448</td>\n",
       "      <td>2.764581</td>\n",
       "      <td>1.562856</td>\n",
       "    </tr>\n",
       "    <tr>\n",
       "      <th>std</th>\n",
       "      <td>962.29855</td>\n",
       "      <td>39.822106</td>\n",
       "      <td>13.688365</td>\n",
       "      <td>54.467389</td>\n",
       "      <td>20.069084</td>\n",
       "      <td>9.259435</td>\n",
       "      <td>50.713844</td>\n",
       "      <td>19.922625</td>\n",
       "      <td>4.310668</td>\n",
       "      <td>50.573847</td>\n",
       "      <td>19.568609</td>\n",
       "      <td>2.275873</td>\n",
       "      <td>2.791840</td>\n",
       "      <td>2.461214</td>\n",
       "      <td>0.753773</td>\n",
       "      <td>1.315491</td>\n",
       "    </tr>\n",
       "    <tr>\n",
       "      <th>min</th>\n",
       "      <td>1.00000</td>\n",
       "      <td>1.000000</td>\n",
       "      <td>0.000000</td>\n",
       "      <td>0.000000</td>\n",
       "      <td>0.000000</td>\n",
       "      <td>0.000000</td>\n",
       "      <td>0.000000</td>\n",
       "      <td>0.000000</td>\n",
       "      <td>0.000000</td>\n",
       "      <td>23.200000</td>\n",
       "      <td>33.000000</td>\n",
       "      <td>1.040000</td>\n",
       "      <td>0.000000</td>\n",
       "      <td>0.000000</td>\n",
       "      <td>0.000000</td>\n",
       "      <td>0.000000</td>\n",
       "    </tr>\n",
       "    <tr>\n",
       "      <th>25%</th>\n",
       "      <td>834.00000</td>\n",
       "      <td>74.000000</td>\n",
       "      <td>0.000000</td>\n",
       "      <td>143.700000</td>\n",
       "      <td>87.000000</td>\n",
       "      <td>24.430000</td>\n",
       "      <td>166.600000</td>\n",
       "      <td>87.000000</td>\n",
       "      <td>14.160000</td>\n",
       "      <td>167.000000</td>\n",
       "      <td>87.000000</td>\n",
       "      <td>7.520000</td>\n",
       "      <td>8.500000</td>\n",
       "      <td>3.000000</td>\n",
       "      <td>2.300000</td>\n",
       "      <td>1.000000</td>\n",
       "    </tr>\n",
       "    <tr>\n",
       "      <th>50%</th>\n",
       "      <td>1667.00000</td>\n",
       "      <td>101.000000</td>\n",
       "      <td>0.000000</td>\n",
       "      <td>179.400000</td>\n",
       "      <td>101.000000</td>\n",
       "      <td>30.500000</td>\n",
       "      <td>201.400000</td>\n",
       "      <td>100.000000</td>\n",
       "      <td>17.120000</td>\n",
       "      <td>201.200000</td>\n",
       "      <td>100.000000</td>\n",
       "      <td>9.050000</td>\n",
       "      <td>10.300000</td>\n",
       "      <td>4.000000</td>\n",
       "      <td>2.780000</td>\n",
       "      <td>1.000000</td>\n",
       "    </tr>\n",
       "    <tr>\n",
       "      <th>75%</th>\n",
       "      <td>2500.00000</td>\n",
       "      <td>127.000000</td>\n",
       "      <td>20.000000</td>\n",
       "      <td>216.400000</td>\n",
       "      <td>114.000000</td>\n",
       "      <td>36.790000</td>\n",
       "      <td>235.300000</td>\n",
       "      <td>114.000000</td>\n",
       "      <td>20.000000</td>\n",
       "      <td>235.300000</td>\n",
       "      <td>113.000000</td>\n",
       "      <td>10.590000</td>\n",
       "      <td>12.100000</td>\n",
       "      <td>6.000000</td>\n",
       "      <td>3.270000</td>\n",
       "      <td>2.000000</td>\n",
       "    </tr>\n",
       "    <tr>\n",
       "      <th>max</th>\n",
       "      <td>3333.00000</td>\n",
       "      <td>243.000000</td>\n",
       "      <td>51.000000</td>\n",
       "      <td>350.800000</td>\n",
       "      <td>165.000000</td>\n",
       "      <td>59.640000</td>\n",
       "      <td>363.700000</td>\n",
       "      <td>170.000000</td>\n",
       "      <td>30.910000</td>\n",
       "      <td>395.000000</td>\n",
       "      <td>175.000000</td>\n",
       "      <td>17.770000</td>\n",
       "      <td>20.000000</td>\n",
       "      <td>20.000000</td>\n",
       "      <td>5.400000</td>\n",
       "      <td>9.000000</td>\n",
       "    </tr>\n",
       "  </tbody>\n",
       "</table>\n",
       "</div>"
      ],
      "text/plain": [
       "       Unnamed: 0  account_length  number_vmail_messages  total_day_minutes  \\\n",
       "count  3333.00000     3333.000000            3333.000000        3333.000000   \n",
       "mean   1667.00000      101.064806               8.099010         179.775098   \n",
       "std     962.29855       39.822106              13.688365          54.467389   \n",
       "min       1.00000        1.000000               0.000000           0.000000   \n",
       "25%     834.00000       74.000000               0.000000         143.700000   \n",
       "50%    1667.00000      101.000000               0.000000         179.400000   \n",
       "75%    2500.00000      127.000000              20.000000         216.400000   \n",
       "max    3333.00000      243.000000              51.000000         350.800000   \n",
       "\n",
       "       total_day_calls  total_day_charge  total_eve_minutes  total_eve_calls  \\\n",
       "count      3333.000000       3333.000000        3333.000000      3333.000000   \n",
       "mean        100.435644         30.562307         200.980348       100.114311   \n",
       "std          20.069084          9.259435          50.713844        19.922625   \n",
       "min           0.000000          0.000000           0.000000         0.000000   \n",
       "25%          87.000000         24.430000         166.600000        87.000000   \n",
       "50%         101.000000         30.500000         201.400000       100.000000   \n",
       "75%         114.000000         36.790000         235.300000       114.000000   \n",
       "max         165.000000         59.640000         363.700000       170.000000   \n",
       "\n",
       "       total_eve_charge  total_night_minutes  total_night_calls  \\\n",
       "count       3333.000000          3333.000000        3333.000000   \n",
       "mean          17.083540           200.872037         100.107711   \n",
       "std            4.310668            50.573847          19.568609   \n",
       "min            0.000000            23.200000          33.000000   \n",
       "25%           14.160000           167.000000          87.000000   \n",
       "50%           17.120000           201.200000         100.000000   \n",
       "75%           20.000000           235.300000         113.000000   \n",
       "max           30.910000           395.000000         175.000000   \n",
       "\n",
       "       total_night_charge  total_intl_minutes  total_intl_calls  \\\n",
       "count         3333.000000         3333.000000       3333.000000   \n",
       "mean             9.039325           10.237294          4.479448   \n",
       "std              2.275873            2.791840          2.461214   \n",
       "min              1.040000            0.000000          0.000000   \n",
       "25%              7.520000            8.500000          3.000000   \n",
       "50%              9.050000           10.300000          4.000000   \n",
       "75%             10.590000           12.100000          6.000000   \n",
       "max             17.770000           20.000000         20.000000   \n",
       "\n",
       "       total_intl_charge  number_customer_service_calls  \n",
       "count        3333.000000                    3333.000000  \n",
       "mean            2.764581                       1.562856  \n",
       "std             0.753773                       1.315491  \n",
       "min             0.000000                       0.000000  \n",
       "25%             2.300000                       1.000000  \n",
       "50%             2.780000                       1.000000  \n",
       "75%             3.270000                       2.000000  \n",
       "max             5.400000                       9.000000  "
      ]
     },
     "execution_count": 4,
     "metadata": {},
     "output_type": "execute_result"
    }
   ],
   "source": [
    "num_idx = [x for x in list(range(0, len(df_train.columns.values), 1)) if x not in cat_idx]\n",
    "\n",
    "df_train.iloc[:, num_idx].describe()"
   ]
  },
  {
   "cell_type": "markdown",
   "id": "d8fa2df1",
   "metadata": {},
   "source": [
    "Soma de valores NaN:"
   ]
  },
  {
   "cell_type": "code",
   "execution_count": 5,
   "id": "178898aa",
   "metadata": {},
   "outputs": [
    {
     "name": "stdout",
     "output_type": "stream",
     "text": [
      "NA: 0\n",
      "Null: 0\n"
     ]
    }
   ],
   "source": [
    "print(\"NA:\", df_train.isna().sum(axis=0).sum())\n",
    "print(\"Null:\", df_train.isnull().sum(axis=0).sum())"
   ]
  },
  {
   "cell_type": "markdown",
   "id": "e57d106e",
   "metadata": {},
   "source": [
    "**Alteração dos dados:**\n",
    "- Criação de variáveis com o gasto total do cliente e o total de minutos;\n",
    "- Retirada do que não é número na variável area_code;\n",
    "- Transformação das variáveis international_plan e voice_mail_plan para atributos binários com 0 para não e 1 para sim;\n",
    "- Transformação de state e area_code por meio de one hot encoding, remoção das variáveis originais e remoção da variável \"Unnamed : 0\", pois se trata do ID e não será utilizada na criação do modelo.\n",
    "\n",
    "Caso os atributos com totais de minutos e de gastos não sejam úteis, podem ser facilmente removidos."
   ]
  },
  {
   "cell_type": "code",
   "execution_count": 6,
   "id": "1859aa96",
   "metadata": {},
   "outputs": [],
   "source": [
    "def change_df(df):\n",
    "    # função definida para aplicar as mesmas alterações no dataset de teste.\n",
    "    \n",
    "    # 1) criando colunas com o total de minutos e o total de cobrança:\n",
    "    minutes_names = [name for name in df.columns.values if \"minutes\" in name]\n",
    "    charge_names = [name for name in df.columns.values if \"charge\" in name]\n",
    "    \n",
    "    df['total_minutes'] = df[minutes_names].sum(axis = 1)\n",
    "    df['total_charge'] = df[charge_names].sum(axis = 1)\n",
    "    \n",
    "    # 2) transformando as variáveis para atributos binários:\n",
    "    df['area_code'] = df['area_code'].apply(lambda x: sub('[^0-9]', \"\", x))\n",
    "    \n",
    "    # 3) retirando \"area_code_\" dos registros:\n",
    "    df['international_plan'] = df['international_plan'].apply(lambda x: 1 if x == 'yes' else 0)\n",
    "    df['voice_mail_plan'] = df['voice_mail_plan'].apply(lambda x: 1 if x == 'yes' else 0)\n",
    "    \n",
    "    # 4) Aplicando one hot encoding:\n",
    "    if 'Unnamed: 0' in df.columns.values:\n",
    "        df = pd.get_dummies(df.loc[:, ['state', 'area_code']]).join(\n",
    "            df.drop(['Unnamed: 0', 'state', 'area_code'], axis = 1))\n",
    "    else:\n",
    "        df = pd.get_dummies(df.loc[:, ['state', 'area_code']]).join(\n",
    "            df.drop(['state', 'area_code'], axis = 1))\n",
    "    \n",
    "    return df"
   ]
  },
  {
   "cell_type": "code",
   "execution_count": 7,
   "id": "817025f4",
   "metadata": {},
   "outputs": [
    {
     "data": {
      "text/plain": [
       "<seaborn.axisgrid.FacetGrid at 0x7f1cacfbc190>"
      ]
     },
     "execution_count": 7,
     "metadata": {},
     "output_type": "execute_result"
    },
    {
     "data": {
      "image/png": "[encoded data removed]",
      "text/plain": [
       "<Figure size 360x360 with 1 Axes>"
      ]
     },
     "metadata": {},
     "output_type": "display_data"
    }
   ],
   "source": [
    "df_train_v2 = change_df(df_train)\n",
    "\n",
    "sns.displot(df_train_v2, x = 'total_charge', bins = 30)"
   ]
  },
  {
   "cell_type": "code",
   "execution_count": 8,
   "id": "30d5de1e",
   "metadata": {},
   "outputs": [
    {
     "name": "stdout",
     "output_type": "stream",
     "text": [
      "de 0% a 10% com maior gasto | Gasto médio: 77.81 | Gasto total da faixa: 25911.63\n",
      "de 10% a 20% com maior gasto | Gasto médio: 70.47 | Gasto total da faixa: 23537.08\n",
      "de 20% a 30% com maior gasto | Gasto médio: 66.45 | Gasto total da faixa: 22129.41\n",
      "de 30% a 40% com maior gasto | Gasto médio: 63.46 | Gasto total da faixa: 21132.67\n",
      "de 40% a 50% com maior gasto | Gasto médio: 60.79 | Gasto total da faixa: 20243.07\n",
      "de 50% a 60% com maior gasto | Gasto médio: 58.13 | Gasto total da faixa: 19415.95\n",
      "de 60% a 70% com maior gasto | Gasto médio: 55.54 | Gasto total da faixa: 18495.25\n",
      "de 70% a 80% com maior gasto | Gasto médio: 52.36 | Gasto total da faixa: 17436.08\n",
      "de 80% a 90% com maior gasto | Gasto médio: 48.64 | Gasto total da faixa: 16246.26\n",
      "de 90% a 100% com maior gasto | Gasto médio: 40.84 | Gasto total da faixa: 13598.63\n"
     ]
    }
   ],
   "source": [
    "# Total de gasto dos 10% de clientes que mais gastam de maneira decrescente \n",
    "# até chegar ao total de gasto dos 10% de clientes que menos gastam:\n",
    "\n",
    "for n in range(10):\n",
    "    print(f'de {n*10}% a {(n+1)*10}% com maior gasto | Gasto médio:', \n",
    "          \n",
    "          round(df_train_v2['total_charge'].\n",
    "                sort_values(ascending=False)[\n",
    "                    round(0.1*n*len(df_train_v2['total_charge'])):\n",
    "                    round(0.1*(n+1)*len(df_train_v2['total_charge']))].mean(), 2), \n",
    "          \n",
    "          '| Gasto total da faixa:', \n",
    "          \n",
    "         round(df_train_v2['total_charge'].\n",
    "                sort_values(ascending=False)[\n",
    "                    round(0.1*n*len(df_train_v2['total_charge'])):\n",
    "                    round(0.1*(n+1)*len(df_train_v2['total_charge']))].sum(), 2))"
   ]
  },
  {
   "cell_type": "markdown",
   "id": "b35aaf4c",
   "metadata": {},
   "source": [
    "Apesar de os clientes que mais gastam terem uma soma que é quase o dobro da soma dos clientes que menos gastam, a distribuição se aproxima muito de uma distribuição normal e não há faixa de clientes que gaste tão acima para ser priorizada."
   ]
  },
  {
   "cell_type": "code",
   "execution_count": 9,
   "id": "5e9033c8",
   "metadata": {},
   "outputs": [
    {
     "name": "stdout",
     "output_type": "stream",
     "text": [
      "Média de gasto dos clientes sem international_plan e sem voice_mail_plan: 59.24\n",
      "Média de gasto dos clientes sem international_plan e com voice_mail_plan: 59.39\n",
      "Média de gasto dos clientes com international_plan e sem voice_mail_plan: 60.82\n",
      "Média de gasto dos clientes com international_plan e com voice_mail_plan: 61.46\n"
     ]
    }
   ],
   "source": [
    "# Média de gasto dos clientes com plano internacional e/ou com plano de recado de voz:\n",
    "\n",
    "for n in [[0, 0], [0, 1], [1, 0], [1, 1]]:\n",
    "    a = df_train_v2[df_train_v2['international_plan'] == n[0]][\n",
    "        df_train_v2['voice_mail_plan'] == n[1]]['total_charge'].mean()\n",
    "    \n",
    "    print('Média de gasto dos clientes {} international_plan e {} voice_mail_plan: {}'.format(\n",
    "    'com' if n[0] == 1 else 'sem', 'com' if n[1] == 1 else 'sem', round(a, 2)))"
   ]
  },
  {
   "cell_type": "markdown",
   "id": "b2412c6e",
   "metadata": {},
   "source": [
    "Também não há diferença visível entre o gasto médio dos clientes com planos extras ou não."
   ]
  },
  {
   "cell_type": "markdown",
   "id": "6aeaf230",
   "metadata": {},
   "source": [
    "**Avaliando correlação:**\n",
    "\n",
    "As variáveis numéricas possuem informação de minutos conversados durante um período e o valor pago por esses minutos. Como essas variáveis provavelmente têm forte correlação, essa correlação precisa ser avaliada para verificar a necessidade de manter apenas uma das informações e evitar impactos no modelo."
   ]
  },
  {
   "cell_type": "code",
   "execution_count": 10,
   "id": "f6a78be9",
   "metadata": {},
   "outputs": [
    {
     "data": {
      "text/plain": [
       "<AxesSubplot:>"
      ]
     },
     "execution_count": 10,
     "metadata": {},
     "output_type": "execute_result"
    },
    {
     "data": {
      "image/png": "[encoded data removed]",
      "text/plain": [
       "<Figure size 576x288 with 2 Axes>"
      ]
     },
     "metadata": {},
     "output_type": "display_data"
    }
   ],
   "source": [
    "num_idx = [x for x in df_train_v2.columns.values if (\"minutes\" in x or \"charge\" in x)]\n",
    "\n",
    "sns.set(rc = {'figure.figsize': (8, 4)})\n",
    "sns.heatmap(df_train.loc[:, num_idx].corr())"
   ]
  },
  {
   "cell_type": "markdown",
   "id": "026a5061",
   "metadata": {},
   "source": [
    "Como era esperando, as variáveis que têm os totais de minutos ligados têm forte correlação com as variáveis que têm os totais de custo.<br>\n",
    "As variáveis com totais de minutos serão removidas e, como a variável com total de custo não demonstou nenhuma informação específica, também será removida."
   ]
  },
  {
   "cell_type": "code",
   "execution_count": 11,
   "id": "12e2a8d9",
   "metadata": {},
   "outputs": [],
   "source": [
    "del_idx = [x for x in df_train_v2.columns.values if (\"minutes\" in x or \"total_charge\" in x)]\n",
    "\n",
    "df_train_v2 = df_train_v2.drop(del_idx, axis = 1)"
   ]
  },
  {
   "cell_type": "markdown",
   "id": "73dccfe3",
   "metadata": {},
   "source": [
    "O dataset original resultou em um novo com maior número de atributos, variáveis em diferentes escalas e com uma variável alvo desbalanceada.<br>\n",
    "O primeiro passo será o balanceamento:"
   ]
  },
  {
   "cell_type": "code",
   "execution_count": 12,
   "id": "893bc2f8",
   "metadata": {},
   "outputs": [],
   "source": [
    "ada = ADASYN()\n",
    "\n",
    "x_resampled, y_resampled = ada.fit_resample(df_train_v2.drop('churn', axis=1), df_train_v2['churn'])"
   ]
  },
  {
   "cell_type": "code",
   "execution_count": 13,
   "id": "d9ac7a8d",
   "metadata": {},
   "outputs": [
    {
     "data": {
      "text/plain": [
       "churn\n",
       "yes      2880\n",
       "no       2850\n",
       "dtype: int64"
      ]
     },
     "execution_count": 13,
     "metadata": {},
     "output_type": "execute_result"
    }
   ],
   "source": [
    "pd.DataFrame(y_resampled).value_counts()"
   ]
  },
  {
   "cell_type": "markdown",
   "id": "67da8f06",
   "metadata": {},
   "source": [
    "Em seguida será feita a escolha dos parâmetros para aplicar a regressão logistíca:"
   ]
  },
  {
   "cell_type": "code",
   "execution_count": 14,
   "id": "77405603",
   "metadata": {},
   "outputs": [
    {
     "name": "stdout",
     "output_type": "stream",
     "text": [
      "{'C': 5.0, 'max_iter': 500, 'multi_class': 'auto'}\n"
     ]
    }
   ],
   "source": [
    "logReg_model = LogisticRegression(random_state=0)\n",
    "\n",
    "param_grid = { \n",
    "    'C': [0.01, 0.1, 0.5, 1.0, 3.0, 5.0],\n",
    "    'max_iter': [50, 100, 300, 500],\n",
    "    'multi_class': ['auto', 'ovr', 'multinomial'],\n",
    "}\n",
    "\n",
    "logReg = GridSearchCV(estimator = logReg_model, param_grid = param_grid, cv= 5)\n",
    "logReg.fit(x_resampled, y_resampled)\n",
    "\n",
    "print(logReg.best_params_)"
   ]
  },
  {
   "cell_type": "markdown",
   "id": "afaaf9d3",
   "metadata": {},
   "source": [
    "Criando o melhor modelo:"
   ]
  },
  {
   "cell_type": "code",
   "execution_count": 15,
   "id": "a5e03eda",
   "metadata": {},
   "outputs": [
    {
     "data": {
      "text/html": [
       "<style>#sk-container-id-1 {color: black;background-color: white;}#sk-container-id-1 pre{padding: 0;}#sk-container-id-1 div.sk-toggleable {background-color: white;}#sk-container-id-1 label.sk-toggleable__label {cursor: pointer;display: block;width: 100%;margin-bottom: 0;padding: 0.3em;box-sizing: border-box;text-align: center;}#sk-container-id-1 label.sk-toggleable__label-arrow:before {content: \"▸\";float: left;margin-right: 0.25em;color: #696969;}#sk-container-id-1 label.sk-toggleable__label-arrow:hover:before {color: black;}#sk-container-id-1 div.sk-estimator:hover label.sk-toggleable__label-arrow:before {color: black;}#sk-container-id-1 div.sk-toggleable__content {max-height: 0;max-width: 0;overflow: hidden;text-align: left;background-color: #f0f8ff;}#sk-container-id-1 div.sk-toggleable__content pre {margin: 0.2em;color: black;border-radius: 0.25em;background-color: #f0f8ff;}#sk-container-id-1 input.sk-toggleable__control:checked~div.sk-toggleable__content {max-height: 200px;max-width: 100%;overflow: auto;}#sk-container-id-1 input.sk-toggleable__control:checked~label.sk-toggleable__label-arrow:before {content: \"▾\";}#sk-container-id-1 div.sk-estimator input.sk-toggleable__control:checked~label.sk-toggleable__label {background-color: #d4ebff;}#sk-container-id-1 div.sk-label input.sk-toggleable__control:checked~label.sk-toggleable__label {background-color: #d4ebff;}#sk-container-id-1 input.sk-hidden--visually {border: 0;clip: rect(1px 1px 1px 1px);clip: rect(1px, 1px, 1px, 1px);height: 1px;margin: -1px;overflow: hidden;padding: 0;position: absolute;width: 1px;}#sk-container-id-1 div.sk-estimator {font-family: monospace;background-color: #f0f8ff;border: 1px dotted black;border-radius: 0.25em;box-sizing: border-box;margin-bottom: 0.5em;}#sk-container-id-1 div.sk-estimator:hover {background-color: #d4ebff;}#sk-container-id-1 div.sk-parallel-item::after {content: \"\";width: 100%;border-bottom: 1px solid gray;flex-grow: 1;}#sk-container-id-1 div.sk-label:hover label.sk-toggleable__label {background-color: #d4ebff;}#sk-container-id-1 div.sk-serial::before {content: \"\";position: absolute;border-left: 1px solid gray;box-sizing: border-box;top: 0;bottom: 0;left: 50%;z-index: 0;}#sk-container-id-1 div.sk-serial {display: flex;flex-direction: column;align-items: center;background-color: white;padding-right: 0.2em;padding-left: 0.2em;position: relative;}#sk-container-id-1 div.sk-item {position: relative;z-index: 1;}#sk-container-id-1 div.sk-parallel {display: flex;align-items: stretch;justify-content: center;background-color: white;position: relative;}#sk-container-id-1 div.sk-item::before, #sk-container-id-1 div.sk-parallel-item::before {content: \"\";position: absolute;border-left: 1px solid gray;box-sizing: border-box;top: 0;bottom: 0;left: 50%;z-index: -1;}#sk-container-id-1 div.sk-parallel-item {display: flex;flex-direction: column;z-index: 1;position: relative;background-color: white;}#sk-container-id-1 div.sk-parallel-item:first-child::after {align-self: flex-end;width: 50%;}#sk-container-id-1 div.sk-parallel-item:last-child::after {align-self: flex-start;width: 50%;}#sk-container-id-1 div.sk-parallel-item:only-child::after {width: 0;}#sk-container-id-1 div.sk-dashed-wrapped {border: 1px dashed gray;margin: 0 0.4em 0.5em 0.4em;box-sizing: border-box;padding-bottom: 0.4em;background-color: white;}#sk-container-id-1 div.sk-label label {font-family: monospace;font-weight: bold;display: inline-block;line-height: 1.2em;}#sk-container-id-1 div.sk-label-container {text-align: center;}#sk-container-id-1 div.sk-container {/* jupyter's `normalize.less` sets `[hidden] { display: none; }` but bootstrap.min.css set `[hidden] { display: none !important; }` so we also need the `!important` here to be able to override the default hidden behavior on the sphinx rendered scikit-learn.org. See: https://github.com/scikit-learn/scikit-learn/issues/21755 */display: inline-block !important;position: relative;}#sk-container-id-1 div.sk-text-repr-fallback {display: none;}</style><div id=\"sk-container-id-1\" class=\"sk-top-container\"><div class=\"sk-text-repr-fallback\"><pre>LogisticRegression(C=3.0, max_iter=500, multi_class=&#x27;multinomial&#x27;,\n",
       "                   random_state=0)</pre><b>In a Jupyter environment, please rerun this cell to show the HTML representation or trust the notebook. <br />On GitHub, the HTML representation is unable to render, please try loading this page with nbviewer.org.</b></div><div class=\"sk-container\" hidden><div class=\"sk-item\"><div class=\"sk-estimator sk-toggleable\"><input class=\"sk-toggleable__control sk-hidden--visually\" id=\"sk-estimator-id-1\" type=\"checkbox\" checked><label for=\"sk-estimator-id-1\" class=\"sk-toggleable__label sk-toggleable__label-arrow\">LogisticRegression</label><div class=\"sk-toggleable__content\"><pre>LogisticRegression(C=3.0, max_iter=500, multi_class=&#x27;multinomial&#x27;,\n",
       "                   random_state=0)</pre></div></div></div></div></div>"
      ],
      "text/plain": [
       "LogisticRegression(C=3.0, max_iter=500, multi_class='multinomial',\n",
       "                   random_state=0)"
      ]
     },
     "execution_count": 15,
     "metadata": {},
     "output_type": "execute_result"
    }
   ],
   "source": [
    "logReg_model = LogisticRegression(random_state = 0, \n",
    "                                  C = 3.0, \n",
    "                                  max_iter = 500, \n",
    "                                  multi_class = 'multinomial')\n",
    "\n",
    "logReg_model.fit(x_resampled, y_resampled)"
   ]
  },
  {
   "cell_type": "markdown",
   "id": "2b0d0540",
   "metadata": {},
   "source": [
    "Alterando os dados de teste para terem o mesmo perfil dos dados de treino e fazendo as predições:"
   ]
  },
  {
   "cell_type": "code",
   "execution_count": 16,
   "id": "7542e6de",
   "metadata": {},
   "outputs": [],
   "source": [
    "df_test = change_df(df_test)\n",
    "\n",
    "df_test = df_test.drop(del_idx, axis = 1)\n",
    "\n",
    "x_test = df_test.drop('churn', axis=1)\n",
    "y_test = df_test['churn']"
   ]
  },
  {
   "cell_type": "code",
   "execution_count": 17,
   "id": "e2dc5427",
   "metadata": {},
   "outputs": [
    {
     "name": "stdout",
     "output_type": "stream",
     "text": [
      "[[2613  237]\n",
      " [ 453 2427]] \n",
      "\n",
      " Acurácia em treino: 0.88 \n",
      "\n",
      "\n",
      "[[1279  164]\n",
      " [ 135   89]] \n",
      "\n",
      " Acurácia em teste: 0.821\n"
     ]
    }
   ],
   "source": [
    "y_pred_train = logReg_model.predict(x_resampled)\n",
    "y_pred = logReg_model.predict(x_test)\n",
    "\n",
    "conf_mtx_train = confusion_matrix(y_resampled, y_pred_train)\n",
    "conf_mtx_test = confusion_matrix(y_test, y_pred)\n",
    "\n",
    "print(conf_mtx_train, \"\\n\"*2, \"Acurácia em treino:\", round(accuracy_score(y_resampled, y_pred_train), 3), \"\\n\"*2)\n",
    "print(conf_mtx_test, \"\\n\"*2, \"Acurácia em teste:\", round(accuracy_score(y_test, y_pred), 3))"
   ]
  },
  {
   "cell_type": "code",
   "execution_count": 18,
   "id": "235b2f33",
   "metadata": {},
   "outputs": [
    {
     "name": "stdout",
     "output_type": "stream",
     "text": [
      "              precision    recall  f1-score   support\n",
      "\n",
      "          no       0.90      0.89      0.90      1443\n",
      "         yes       0.35      0.40      0.37       224\n",
      "\n",
      "    accuracy                           0.82      1667\n",
      "   macro avg       0.63      0.64      0.63      1667\n",
      "weighted avg       0.83      0.82      0.83      1667\n",
      "\n"
     ]
    }
   ],
   "source": [
    "print(classification_report(y_test, y_pred))"
   ]
  },
  {
   "cell_type": "code",
   "execution_count": 19,
   "id": "ca961a65",
   "metadata": {},
   "outputs": [
    {
     "name": "stdout",
     "output_type": "stream",
     "text": [
      "Tempo gasto até a criação do modelo: 81.12 segundos.\n"
     ]
    }
   ],
   "source": [
    "print('Tempo gasto até a criação do modelo:', round(time() - start, 2), 'segundos.')"
   ]
  },
  {
   "cell_type": "markdown",
   "id": "dce12159",
   "metadata": {},
   "source": [
    "Aplicando a uma amostra dos dados de teste já alterados para retornar o resultado esperado a partir de novos dados:"
   ]
  },
  {
   "cell_type": "code",
   "execution_count": 20,
   "id": "5659a6bf",
   "metadata": {},
   "outputs": [
    {
     "name": "stdout",
     "output_type": "stream",
     "text": [
      "O cliente de índice 0 apresenta 43.45% de chance de deixar a empresa.\n",
      "O cliente de índice 1 apresenta 14.22% de chance de deixar a empresa.\n",
      "O cliente de índice 2 apresenta 83.21% de chance de deixar a empresa.\n",
      "O cliente de índice 3 apresenta 56.93% de chance de deixar a empresa.\n",
      "O cliente de índice 4 apresenta 16.9% de chance de deixar a empresa.\n",
      "O cliente de índice 5 apresenta 46.98% de chance de deixar a empresa.\n",
      "O cliente de índice 6 apresenta 12.09% de chance de deixar a empresa.\n",
      "O cliente de índice 7 apresenta 17.85% de chance de deixar a empresa.\n",
      "O cliente de índice 8 apresenta 0.86% de chance de deixar a empresa.\n",
      "O cliente de índice 9 apresenta 74.82% de chance de deixar a empresa.\n"
     ]
    }
   ],
   "source": [
    "df = df_test.sample(n = 10).drop('churn', axis = 1)\n",
    "\n",
    "# Fazendo as previsões:\n",
    "predict = logReg_model.predict_proba(df)\n",
    "    \n",
    "# Retornando as probabilidades de todos clientes:\n",
    "for n in range(len(predict)):\n",
    "    print(f'O cliente de índice {n} apresenta {round(predict[n][1] * 100, 2)}% de chance de deixar a empresa.')"
   ]
  },
  {
   "cell_type": "markdown",
   "id": "f97f376d",
   "metadata": {},
   "source": [
    "**Fim.**"
   ]
  }
 ],
 "metadata": {
  "kernelspec": {
   "display_name": "Python 3 (ipykernel)",
   "language": "python",
   "name": "python3"
  },
  "language_info": {
   "codemirror_mode": {
    "name": "ipython",
    "version": 3
   },
   "file_extension": ".py",
   "mimetype": "text/x-python",
   "name": "python",
   "nbconvert_exporter": "python",
   "pygments_lexer": "ipython3",
   "version": "3.9.7"
  }
 },
 "nbformat": 4,
 "nbformat_minor": 5
}
