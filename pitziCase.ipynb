{
 "cells": [
  {
   "cell_type": "markdown",
   "id": "41732053",
   "metadata": {},
   "source": [
    "#### Primeiramente os dados dos arquivos csv foram importados para um dataframe do pandas e, em seguida, foram ajustados com os nomes de colunas apropriados para uma manipulação mais fácil."
   ]
  },
  {
   "cell_type": "code",
   "execution_count": 98,
   "id": "839a3195",
   "metadata": {},
   "outputs": [],
   "source": [
    "import pandas as pd\n",
    "import sqlite3 as sql\n",
    "import os"
   ]
  },
  {
   "cell_type": "code",
   "execution_count": 106,
   "id": "b0453df6",
   "metadata": {},
   "outputs": [
    {
     "data": {
      "text/plain": [
       "['Base CASE - Parceiros.csv',\n",
       " 'Base CASE - Consultores.csv',\n",
       " 'Planos.csv',\n",
       " 'Base CASE - Vendas.csv']"
      ]
     },
     "execution_count": 106,
     "metadata": {},
     "output_type": "execute_result"
    }
   ],
   "source": [
    "lista_csv = os.listdir(\"/home/michelrribeiro/virtualpython/projeto-pitzi/arqCSV\")\n",
    "lista_csv"
   ]
  },
  {
   "cell_type": "code",
   "execution_count": 111,
   "id": "d4e04bf6",
   "metadata": {
    "scrolled": true
   },
   "outputs": [],
   "source": [
    "parceiros = pd.read_csv(\"/home/michelrribeiro/virtualpython/projeto-pitzi/arqCSV/\" + lista_csv[0])\n",
    "consultores = pd.read_csv(\"/home/michelrribeiro/virtualpython/projeto-pitzi/arqCSV/\" + lista_csv[1])\n",
    "vendas = pd.read_csv(\"/home/michelrribeiro/virtualpython/projeto-pitzi/arqCSV/\" + lista_csv[3])"
   ]
  },
  {
   "cell_type": "code",
   "execution_count": 112,
   "id": "724a1128",
   "metadata": {},
   "outputs": [
    {
     "data": {
      "text/plain": [
       "(   Parceiro         Nome\n",
       " 0         1  Lojas Marco,\n",
       "    id Consultor Consultor  Parceiro   Salário\n",
       " 0             1  fernanda         3  3,306.00,\n",
       "    id Consultor tipo venda  qtd\n",
       " 0             1          A    8)"
      ]
     },
     "execution_count": 112,
     "metadata": {},
     "output_type": "execute_result"
    }
   ],
   "source": [
    "parceiros.head(1), consultores.head(1), vendas.head(1)"
   ]
  },
  {
   "cell_type": "code",
   "execution_count": 113,
   "id": "19b1036e",
   "metadata": {},
   "outputs": [
    {
     "data": {
      "text/plain": [
       "(   parceiro         nome\n",
       " 0         1  Lojas Marco,\n",
       "    id_consultor consultor  parceiro   salario\n",
       " 0             1  fernanda         3  3,306.00,\n",
       "    id_consultor tipo_de_venda  qtd\n",
       " 0             1             A    8)"
      ]
     },
     "execution_count": 113,
     "metadata": {},
     "output_type": "execute_result"
    }
   ],
   "source": [
    "parceiros = parceiros.rename(columns={'Parceiro': 'parceiro', 'Nome': 'nome'})\n",
    "consultores = consultores.rename(columns={'id Consultor': 'id_consultor', 'Consultor': 'consultor', \n",
    "                                          'Parceiro': 'parceiro', 'Salário': 'salario'})\n",
    "vendas = vendas.rename(columns={'id Consultor': 'id_consultor', 'tipo venda': 'tipo_de_venda'})\n",
    "parceiros.head(1), consultores.head(1), vendas.head(1)"
   ]
  },
  {
   "cell_type": "markdown",
   "id": "bc5bc864",
   "metadata": {},
   "source": [
    "#### Em seguida foi feita a importação do arquivo csv criado com os dados do problema de negócio e uma coluna de lucro_por_plano foi adicionada."
   ]
  },
  {
   "cell_type": "code",
   "execution_count": 115,
   "id": "bde8964f",
   "metadata": {},
   "outputs": [
    {
     "data": {
      "text/html": [
       "<div>\n",
       "<style scoped>\n",
       "    .dataframe tbody tr th:only-of-type {\n",
       "        vertical-align: middle;\n",
       "    }\n",
       "\n",
       "    .dataframe tbody tr th {\n",
       "        vertical-align: top;\n",
       "    }\n",
       "\n",
       "    .dataframe thead th {\n",
       "        text-align: right;\n",
       "    }\n",
       "</style>\n",
       "<table border=\"1\" class=\"dataframe\">\n",
       "  <thead>\n",
       "    <tr style=\"text-align: right;\">\n",
       "      <th></th>\n",
       "      <th>plano</th>\n",
       "      <th>mensalidade</th>\n",
       "      <th>meses</th>\n",
       "      <th>chance</th>\n",
       "      <th>premio</th>\n",
       "      <th>taxa_adicional</th>\n",
       "      <th>lucro_por_plano</th>\n",
       "    </tr>\n",
       "  </thead>\n",
       "  <tbody>\n",
       "    <tr>\n",
       "      <th>0</th>\n",
       "      <td>A</td>\n",
       "      <td>33</td>\n",
       "      <td>12</td>\n",
       "      <td>0.0417</td>\n",
       "      <td>400</td>\n",
       "      <td>30</td>\n",
       "      <td>17.571</td>\n",
       "    </tr>\n",
       "    <tr>\n",
       "      <th>1</th>\n",
       "      <td>B</td>\n",
       "      <td>20</td>\n",
       "      <td>12</td>\n",
       "      <td>0.0208</td>\n",
       "      <td>300</td>\n",
       "      <td>15</td>\n",
       "      <td>14.072</td>\n",
       "    </tr>\n",
       "    <tr>\n",
       "      <th>2</th>\n",
       "      <td>C</td>\n",
       "      <td>15</td>\n",
       "      <td>12</td>\n",
       "      <td>0.0083</td>\n",
       "      <td>250</td>\n",
       "      <td>10</td>\n",
       "      <td>13.008</td>\n",
       "    </tr>\n",
       "  </tbody>\n",
       "</table>\n",
       "</div>"
      ],
      "text/plain": [
       "  plano  mensalidade  meses  chance  premio  taxa_adicional  lucro_por_plano\n",
       "0     A           33     12  0.0417     400              30           17.571\n",
       "1     B           20     12  0.0208     300              15           14.072\n",
       "2     C           15     12  0.0083     250              10           13.008"
      ]
     },
     "execution_count": 115,
     "metadata": {},
     "output_type": "execute_result"
    }
   ],
   "source": [
    "planos = pd.read_csv(\"/home/michelrribeiro/virtualpython/projeto-pitzi/arqCSV/Planos.csv\")\n",
    "planos['lucro_por_plano'] = (planos['mensalidade'] - (planos['chance'] * planos['premio']) \n",
    "                             + (planos['chance'] * planos['taxa_adicional']))\n",
    "planos"
   ]
  },
  {
   "cell_type": "markdown",
   "id": "f09ceee1",
   "metadata": {},
   "source": [
    "#### Após a criação de todos os dataframes o próximo passo foi a inserção dos dados em tabelas do banco de dados do sqlite. Assim as perguntas poderão ser respondidas por chamadas SQL."
   ]
  },
  {
   "cell_type": "code",
   "execution_count": 116,
   "id": "5af69097",
   "metadata": {},
   "outputs": [
    {
     "data": {
      "text/plain": [
       "3"
      ]
     },
     "execution_count": 116,
     "metadata": {},
     "output_type": "execute_result"
    }
   ],
   "source": [
    "conn = sql.connect(\"/home/michelrribeiro/virtualpython/projeto-pitzi/arqDB/premioFacil.db\")\n",
    "\n",
    "parceiros.to_sql(name='parceiros', con=conn, if_exists='replace')\n",
    "consultores.to_sql(name='consultores', con=conn, if_exists='replace')\n",
    "vendas.to_sql(name='vendas', con=conn, if_exists='replace')\n",
    "planos.to_sql(name='planos', con=conn, if_exists='replace')"
   ]
  },
  {
   "cell_type": "markdown",
   "id": "20e07588",
   "metadata": {},
   "source": [
    "#### A. Top 3 consultores com maior valor de vendas."
   ]
  },
  {
   "cell_type": "code",
   "execution_count": 40,
   "id": "3fc98c10",
   "metadata": {},
   "outputs": [
    {
     "data": {
      "text/html": [
       "<div>\n",
       "<style scoped>\n",
       "    .dataframe tbody tr th:only-of-type {\n",
       "        vertical-align: middle;\n",
       "    }\n",
       "\n",
       "    .dataframe tbody tr th {\n",
       "        vertical-align: top;\n",
       "    }\n",
       "\n",
       "    .dataframe thead th {\n",
       "        text-align: right;\n",
       "    }\n",
       "</style>\n",
       "<table border=\"1\" class=\"dataframe\">\n",
       "  <thead>\n",
       "    <tr style=\"text-align: right;\">\n",
       "      <th></th>\n",
       "      <th>Consultor</th>\n",
       "      <th>Valor de Vendas</th>\n",
       "    </tr>\n",
       "  </thead>\n",
       "  <tbody>\n",
       "    <tr>\n",
       "      <th>0</th>\n",
       "      <td>Natasha</td>\n",
       "      <td>57847</td>\n",
       "    </tr>\n",
       "    <tr>\n",
       "      <th>1</th>\n",
       "      <td>pedro</td>\n",
       "      <td>38606</td>\n",
       "    </tr>\n",
       "    <tr>\n",
       "      <th>2</th>\n",
       "      <td>Felipe</td>\n",
       "      <td>37104</td>\n",
       "    </tr>\n",
       "  </tbody>\n",
       "</table>\n",
       "</div>"
      ],
      "text/plain": [
       "  Consultor  Valor de Vendas\n",
       "0   Natasha            57847\n",
       "1     pedro            38606\n",
       "2    Felipe            37104"
      ]
     },
     "execution_count": 40,
     "metadata": {},
     "output_type": "execute_result"
    }
   ],
   "source": [
    "query1 = '''SELECT c.consultor as \"Consultor\", SUM(v.qtd * pl.mensalidade) as \"Valor de Vendas\" \n",
    "FROM ((planos pl JOIN vendas v ON pl.plano = v.tipo_de_venda) JOIN consultores c ON c.id_consultor = v.id_consultor)\n",
    "GROUP BY c.consultor\n",
    "ORDER BY \"Valor de Vendas\" DESC \n",
    "LIMIT 3;'''\n",
    "\n",
    "resposta1 = pd.read_sql_query(query1, conn)\n",
    "resposta1"
   ]
  },
  {
   "cell_type": "markdown",
   "id": "ef3cdf15",
   "metadata": {},
   "source": [
    "#### B. Top 5 consultores maior número de vendas, considerando apenas vendas do plano A."
   ]
  },
  {
   "cell_type": "code",
   "execution_count": 41,
   "id": "377b2c03",
   "metadata": {},
   "outputs": [
    {
     "data": {
      "text/html": [
       "<div>\n",
       "<style scoped>\n",
       "    .dataframe tbody tr th:only-of-type {\n",
       "        vertical-align: middle;\n",
       "    }\n",
       "\n",
       "    .dataframe tbody tr th {\n",
       "        vertical-align: top;\n",
       "    }\n",
       "\n",
       "    .dataframe thead th {\n",
       "        text-align: right;\n",
       "    }\n",
       "</style>\n",
       "<table border=\"1\" class=\"dataframe\">\n",
       "  <thead>\n",
       "    <tr style=\"text-align: right;\">\n",
       "      <th></th>\n",
       "      <th>Consultor</th>\n",
       "      <th>Quantidade de Vendas</th>\n",
       "    </tr>\n",
       "  </thead>\n",
       "  <tbody>\n",
       "    <tr>\n",
       "      <th>0</th>\n",
       "      <td>Natasha</td>\n",
       "      <td>739</td>\n",
       "    </tr>\n",
       "    <tr>\n",
       "      <th>1</th>\n",
       "      <td>Felipe</td>\n",
       "      <td>598</td>\n",
       "    </tr>\n",
       "    <tr>\n",
       "      <th>2</th>\n",
       "      <td>jUliA</td>\n",
       "      <td>593</td>\n",
       "    </tr>\n",
       "    <tr>\n",
       "      <th>3</th>\n",
       "      <td>Pedro eduardo</td>\n",
       "      <td>586</td>\n",
       "    </tr>\n",
       "    <tr>\n",
       "      <th>4</th>\n",
       "      <td>matheus</td>\n",
       "      <td>577</td>\n",
       "    </tr>\n",
       "  </tbody>\n",
       "</table>\n",
       "</div>"
      ],
      "text/plain": [
       "       Consultor  Quantidade de Vendas\n",
       "0        Natasha                   739\n",
       "1         Felipe                   598\n",
       "2          jUliA                   593\n",
       "3  Pedro eduardo                   586\n",
       "4        matheus                   577"
      ]
     },
     "execution_count": 41,
     "metadata": {},
     "output_type": "execute_result"
    }
   ],
   "source": [
    "query2 = '''SELECT c.consultor as \"Consultor\", SUM(v.qtd) as \"Quantidade de Vendas\"\n",
    "FROM ((planos pl JOIN vendas v ON pl.plano = v.tipo_de_venda) JOIN consultores c ON c.id_consultor = v.id_consultor)\n",
    "WHERE v.tipo_de_venda = \"A\"\n",
    "GROUP BY c.consultor\n",
    "ORDER BY \"Quantidade de Vendas\" DESC\n",
    "LIMIT 5;'''\n",
    "\n",
    "resposta2 = pd.read_sql_query(query2, conn)\n",
    "resposta2"
   ]
  },
  {
   "cell_type": "markdown",
   "id": "98d3a346",
   "metadata": {},
   "source": [
    "#### C. Top 2 consultores em número de vendas, dentro do parceiro com maior valor de vendas."
   ]
  },
  {
   "cell_type": "code",
   "execution_count": 42,
   "id": "c536ab1d",
   "metadata": {},
   "outputs": [
    {
     "data": {
      "text/html": [
       "<div>\n",
       "<style scoped>\n",
       "    .dataframe tbody tr th:only-of-type {\n",
       "        vertical-align: middle;\n",
       "    }\n",
       "\n",
       "    .dataframe tbody tr th {\n",
       "        vertical-align: top;\n",
       "    }\n",
       "\n",
       "    .dataframe thead th {\n",
       "        text-align: right;\n",
       "    }\n",
       "</style>\n",
       "<table border=\"1\" class=\"dataframe\">\n",
       "  <thead>\n",
       "    <tr style=\"text-align: right;\">\n",
       "      <th></th>\n",
       "      <th>Consultor</th>\n",
       "      <th>Quantidade de Vendas</th>\n",
       "      <th>Parceiro</th>\n",
       "    </tr>\n",
       "  </thead>\n",
       "  <tbody>\n",
       "    <tr>\n",
       "      <th>0</th>\n",
       "      <td>Natasha</td>\n",
       "      <td>2663</td>\n",
       "      <td>Varejão do Renato</td>\n",
       "    </tr>\n",
       "    <tr>\n",
       "      <th>1</th>\n",
       "      <td>pedro</td>\n",
       "      <td>1634</td>\n",
       "      <td>Varejão do Renato</td>\n",
       "    </tr>\n",
       "  </tbody>\n",
       "</table>\n",
       "</div>"
      ],
      "text/plain": [
       "  Consultor  Quantidade de Vendas           Parceiro\n",
       "0   Natasha                  2663  Varejão do Renato\n",
       "1     pedro                  1634  Varejão do Renato"
      ]
     },
     "execution_count": 42,
     "metadata": {},
     "output_type": "execute_result"
    }
   ],
   "source": [
    "query3 = '''SELECT c.consultor as \"Consultor\", SUM(v.qtd) as \"Quantidade de Vendas\", pa.nome as \"Parceiro\"\n",
    "FROM (((planos pl JOIN vendas v ON pl.plano = v.tipo_de_venda)\n",
    "JOIN consultores c ON c.id_consultor = v.id_consultor)\n",
    "JOIN parceiros pa ON c.parceiro = pa.parceiro)\n",
    "WHERE c.parceiro = (SELECT pa.parceiro\n",
    "FROM (((planos pl JOIN vendas v ON pl.plano = v.tipo_de_venda) \n",
    "JOIN consultores c ON c.id_consultor = v.id_consultor) \n",
    "JOIN parceiros pa ON c.parceiro = pa.parceiro)\n",
    "GROUP BY pa.parceiro \n",
    "ORDER BY SUM(v.qtd * pl.mensalidade) DESC\n",
    "LIMIT 1)\n",
    "GROUP BY c.consultor \n",
    "ORDER BY \"Quantidade de Vendas\" DESC\n",
    "LIMIT 2;'''\n",
    "\n",
    "resposta3 = pd.read_sql_query(query3, conn)\n",
    "resposta3"
   ]
  }
 ],
 "metadata": {
  "kernelspec": {
   "display_name": "Python 3 (ipykernel)",
   "language": "python",
   "name": "python3"
  },
  "language_info": {
   "codemirror_mode": {
    "name": "ipython",
    "version": 3
   },
   "file_extension": ".py",
   "mimetype": "text/x-python",
   "name": "python",
   "nbconvert_exporter": "python",
   "pygments_lexer": "ipython3",
   "version": "3.8.10"
  }
 },
 "nbformat": 4,
 "nbformat_minor": 5
}
